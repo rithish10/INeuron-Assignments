{
 "cells": [
  {
   "cell_type": "raw",
   "metadata": {},
   "source": [
    "1. Why are functions advantageous to have in your programs?\n",
    "2. When does the code in a function run: when it's specified or when it's called?\n",
    "3. What statement creates a function?\n",
    "4. What is the difference between a function and a function call?\n",
    "5. How many global scopes are there in a Python program? How many local scopes?\n",
    "6. What happens to variables in a local scope when the function call returns?\n",
    "7. What is the concept of a return value? Is it possible to have a return value in an expression?\n",
    "8. If a function does not have a return statement, what is the return value of a call to that function?\n",
    "9. How do you make a function variable refer to the global variable?\n",
    "10. What is the data type of None?\n",
    "11. What does the sentence import areallyourpetsnamederic do?\n",
    "12. If you had a bacon() feature in a spam module, what would you call it after importing spam?\n",
    "13. What can you do to save a programme from crashing if it encounters an error?\n",
    "14. What is the purpose of the try clause? What is the purpose of the except clause?"
   ]
  },
  {
   "cell_type": "raw",
   "metadata": {},
   "source": [
    "1. Why are functions advantageous to have in your programs?\n",
    "\n",
    "A) Functions are advantageous because of reuseability which makes the code shorter and easier."
   ]
  },
  {
   "cell_type": "raw",
   "metadata": {},
   "source": [
    "2. When does the code in a function run: when it's specified or when it's called?\n",
    "\n",
    "A) The function code is run when it's called."
   ]
  },
  {
   "cell_type": "raw",
   "metadata": {},
   "source": [
    "3. What statement creates a function?\n",
    "\n",
    "A) To create a function, we declare a function with a name. define (def) statement is the first statement creates a function. where in the block contains other statements."
   ]
  },
  {
   "cell_type": "raw",
   "metadata": {},
   "source": [
    "4. What is the difference between a function and a function call?\n",
    "\n",
    "A) A function is a method by which we get some output with the help of the procedures we defined. When we use this particular function by calling at any point in the code then it is called as function call."
   ]
  },
  {
   "cell_type": "raw",
   "metadata": {},
   "source": [
    "5. How many global scopes are there in a Python program? How many local scopes?\n",
    "\n",
    "A)They are four types of scopes - local scope, enclosed scope, global scope, and built-in scope.\n",
    "There is one global scope and there can be many local scopes inside the python block of programs. "
   ]
  },
  {
   "cell_type": "raw",
   "metadata": {},
   "source": [
    "6. What happens to variables in a local scope when the function call returns?\n",
    "\n",
    "A) When function call returns the local variables in the function blocks are destroyed at the end of the execution. Because the local scope remains in the temporary memory till the function to end."
   ]
  },
  {
   "cell_type": "raw",
   "metadata": {},
   "source": [
    "7. What is the concept of a return value? Is it possible to have a return value in an expression?\n",
    "\n",
    "A) Return value is the value that returns when the function is called. Yes, It is possible to have a return value in an expression with variable types of handle, integer, object, or string."
   ]
  },
  {
   "cell_type": "raw",
   "metadata": {},
   "source": [
    "8. If a function does not have a return statement, what is the return value of a call to that function?\n",
    "\n",
    "A) It returns None. When a function does not have a return statement."
   ]
  },
  {
   "cell_type": "raw",
   "metadata": {},
   "source": [
    "9. How do you make a function variable refer to the global variable?\n",
    "\n",
    "A) If we want to refer global variable in function we can use a global keyword to declare the variables which are to be global."
   ]
  },
  {
   "cell_type": "raw",
   "metadata": {},
   "source": [
    "10. What is the data type of None?\n",
    "\n",
    "A) None is defined as Null value. NoneType object which is different from zero."
   ]
  },
  {
   "cell_type": "raw",
   "metadata": {},
   "source": [
    "11. What does the sentence import areallyourpetsnamederic do?\n",
    "\n",
    "A) It imports the module named areallyourpetsnamederic."
   ]
  },
  {
   "cell_type": "raw",
   "metadata": {},
   "source": [
    "12. If you had a bacon() feature in a spam module, what would you call it after importing spam?\n",
    "\n",
    "A) spam.bacon()"
   ]
  },
  {
   "cell_type": "raw",
   "metadata": {},
   "source": [
    "13. What can you do to save a programme from crashing if it encounters an error?\n",
    "\n",
    "A) With the help of error handling techniques we can handle the errors and exceptions."
   ]
  },
  {
   "cell_type": "raw",
   "metadata": {},
   "source": [
    "14. What is the purpose of the try clause? What is the purpose of the except clause?\n",
    "\n",
    "A) In try clause, all the statements are executed until an exception occurrs . And except clause is used to catch and handle the exceptions encountered by the try clause."
   ]
  }
 ],
 "metadata": {
  "kernelspec": {
   "display_name": "Python 3",
   "language": "python",
   "name": "python3"
  },
  "language_info": {
   "codemirror_mode": {
    "name": "ipython",
    "version": 3
   },
   "file_extension": ".py",
   "mimetype": "text/x-python",
   "name": "python",
   "nbconvert_exporter": "python",
   "pygments_lexer": "ipython3",
   "version": "3.8.5"
  }
 },
 "nbformat": 4,
 "nbformat_minor": 4
}
