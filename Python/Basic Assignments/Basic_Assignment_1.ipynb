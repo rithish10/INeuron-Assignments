{
 "cells": [
  {
   "cell_type": "raw",
   "metadata": {},
   "source": [
    "1. In the below elements which of them are values or an expression? eg:- values can be integer or string and expressions will be mathematical operators.\n",
    "*       : Expression\n",
    "'hello' : Values\n",
    "-87.8   : Values\n",
    "-       : Expression\n",
    "\n",
    "/       : Expression\n",
    "\n",
    "+       : Expression\n",
    "6       : Values"
   ]
  },
  {
   "cell_type": "raw",
   "metadata": {},
   "source": [
    "2. What is the difference between string and variable?\n",
    "\n",
    "Ans) String is datatype where values are stored inside the double/single quotes, whereas variable is the location where a value is assigned and stored in particular  memory location."
   ]
  },
  {
   "cell_type": "raw",
   "metadata": {},
   "source": [
    "3. Describe three different data types.\n",
    "\n",
    "Ans) Based on the types values there different data types. Some of them are :\n",
    "1) int: values such as ...-1,0,1... (integers) are of int data type\n",
    "2) float: values with decimal are of float data type. (ex:1.0,2.3,-3.4 etc)\n",
    "3) Str: char or values put/stored in double/single quotes are of string data type. (\"Rithish\")\n",
    "There also some other data types such as bool, complex etc"
   ]
  },
  {
   "cell_type": "raw",
   "metadata": {},
   "source": [
    "4. What is an expression made up of? What do all expressions do?\n",
    "\n",
    "Ans) Expressions are made up of different types of combinations of values, operators, variables and functions. These expressions upon the running of the code gives some outputs.  "
   ]
  },
  {
   "cell_type": "raw",
   "metadata": {},
   "source": [
    "5. This assignment statements, like spam = 10. What is the difference between an expression and a statement?\n",
    "\n",
    "Ans) Here the expression assigns some value and a statement is a command or action which gives output. "
   ]
  },
  {
   "cell_type": "raw",
   "metadata": {},
   "source": [
    "6. After running the following code, what does the variable bacon contain?\n",
    "bacon = 22\n",
    "bacon + 1\n",
    "\n",
    "Ans) Variable bacon contains value 22 "
   ]
  },
  {
   "cell_type": "raw",
   "metadata": {},
   "source": [
    "7. What should the values of the following two terms be?\n",
    "'spam' + 'spamspam'\n",
    "'spam' * 3\n",
    "\n",
    "Ans) 1)'spamspamspam' \n",
    "     2)'spamspamspam'"
   ]
  },
  {
   "cell_type": "raw",
   "metadata": {},
   "source": [
    "8. Why is eggs a valid variable name while 100 is invalid?\n",
    "\n",
    "Ans) Eggs is a valid variable name because eggs is a location of storing a value in memory. where as 100 is not a number and variables can't be numbers."
   ]
  },
  {
   "cell_type": "raw",
   "metadata": {},
   "source": [
    "9. What three functions can be used to get the integer, floating-point number, or string version of a value?\n",
    "\n",
    "Ans) int(), float(), str()"
   ]
  },
  {
   "cell_type": "raw",
   "metadata": {},
   "source": [
    "10. Why does this expression cause an error? How can you fix it?\n",
    "'I have eaten ' + 99 + ' burritos.'\n",
    "\n",
    "Ans) We can't concantenate different data types. So we need to convert 99 to str(99) or '99'."
   ]
  }
 ],
 "metadata": {
  "kernelspec": {
   "display_name": "Python 3",
   "language": "python",
   "name": "python3"
  },
  "language_info": {
   "codemirror_mode": {
    "name": "ipython",
    "version": 3
   },
   "file_extension": ".py",
   "mimetype": "text/x-python",
   "name": "python",
   "nbconvert_exporter": "python",
   "pygments_lexer": "ipython3",
   "version": "3.8.5"
  }
 },
 "nbformat": 4,
 "nbformat_minor": 4
}
