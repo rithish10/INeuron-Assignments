{
 "cells": [
  {
   "cell_type": "markdown",
   "metadata": {},
   "source": [
    "1 . Write a Python program to find words which are greater than given length k?\n",
    "2 . Write a Python program for removing i-th character from a string?\n",
    "3 . Write a Python program to split and join a string?\n",
    "4 . Write a Python to check if a given string is binary string or not?\n",
    "5 . Write a Python program to find uncommon words from two Strings?\n",
    "6 . Write a Python to find all duplicate characters in string?\n",
    "7 . Write a Python Program to check if a string contains any special character?"
   ]
  },
  {
   "cell_type": "markdown",
   "metadata": {},
   "source": [
    "1 . Write a Python program to find words which are greater than given length k?"
   ]
  },
  {
   "cell_type": "code",
   "execution_count": 1,
   "metadata": {},
   "outputs": [
    {
     "name": "stdout",
     "output_type": "stream",
     "text": [
      "Enter the length: 5\n",
      "Rithish\n",
      "wrrtutyitg\n",
      "2446756\n"
     ]
    }
   ],
   "source": [
    "n = [\"Rithish\",\"reddy\",\"Puli\",\"wrrtutyitg\",'2446756',\"gtfyi\"]\n",
    "k = int(input(\"Enter the length: \"))\n",
    "for i in n:\n",
    "    if len(i)>k:\n",
    "        print(i)"
   ]
  },
  {
   "cell_type": "code",
   "execution_count": 11,
   "metadata": {},
   "outputs": [],
   "source": [
    "def string_k(n,k):\n",
    "    strng = []\n",
    "    t =  n.split(\" \")\n",
    "    for i in t:\n",
    "        if len(i) > k:\n",
    "            strng.append(i)\n",
    "    return strng"
   ]
  },
  {
   "cell_type": "code",
   "execution_count": 12,
   "metadata": {},
   "outputs": [
    {
     "data": {
      "text/plain": [
       "['Write', 'Python', 'program', 'words', 'which', 'greater', 'given', 'length']"
      ]
     },
     "execution_count": 12,
     "metadata": {},
     "output_type": "execute_result"
    }
   ],
   "source": [
    "n = \"Write a Python program to find words which are greater than given length 4\"\n",
    "string_k(n,4)"
   ]
  },
  {
   "cell_type": "markdown",
   "metadata": {},
   "source": [
    "2 . Write a Python program for removing i-th character from a string?"
   ]
  },
  {
   "cell_type": "code",
   "execution_count": 18,
   "metadata": {},
   "outputs": [],
   "source": [
    "def string_ith(a,i):\n",
    "    x = a[:i]\n",
    "    y = a[i+1:]\n",
    "    return x+y"
   ]
  },
  {
   "cell_type": "code",
   "execution_count": 20,
   "metadata": {},
   "outputs": [
    {
     "data": {
      "text/plain": [
       "'gbfcswgbuh'"
      ]
     },
     "execution_count": 20,
     "metadata": {},
     "output_type": "execute_result"
    }
   ],
   "source": [
    "a = \"gbfycswgbuh\"\n",
    "string_ith(a,3)"
   ]
  },
  {
   "cell_type": "code",
   "execution_count": 22,
   "metadata": {},
   "outputs": [],
   "source": [
    "3 . Write a Python program to split and join a string?"
   ]
  },
  {
   "cell_type": "code",
   "execution_count": 48,
   "metadata": {},
   "outputs": [],
   "source": [
    "def split_join(strng):\n",
    "    s = strng.split()\n",
    "    j = \"-\".join(s)\n",
    "    return j"
   ]
  },
  {
   "cell_type": "code",
   "execution_count": 49,
   "metadata": {},
   "outputs": [
    {
     "data": {
      "text/plain": [
       "'Write-a-Python-program-to-split-and-join-a-string?'"
      ]
     },
     "execution_count": 49,
     "metadata": {},
     "output_type": "execute_result"
    }
   ],
   "source": [
    "x = \"Write a Python program to split and join a string?\"\n",
    "split_join(x)"
   ]
  },
  {
   "cell_type": "markdown",
   "metadata": {},
   "source": [
    "4 . Write a Python to check if a given string is binary string or not?"
   ]
  },
  {
   "cell_type": "code",
   "execution_count": 61,
   "metadata": {},
   "outputs": [],
   "source": [
    "def binary_str(string):\n",
    "    flag = True\n",
    "    for i in string:\n",
    "        if i == \"0\" or i == \"1\" :\n",
    "            continue\n",
    "        else:\n",
    "            flag = False\n",
    "            print(\"Not binary string\")\n",
    "            break\n",
    "    if(flag):\n",
    "        print(\"Binary string\")"
   ]
  },
  {
   "cell_type": "code",
   "execution_count": 62,
   "metadata": {},
   "outputs": [
    {
     "name": "stdout",
     "output_type": "stream",
     "text": [
      "Not binary string\n"
     ]
    }
   ],
   "source": [
    "b = \"10102901\"\n",
    "binary_str(b)"
   ]
  },
  {
   "cell_type": "code",
   "execution_count": 66,
   "metadata": {},
   "outputs": [
    {
     "name": "stdout",
     "output_type": "stream",
     "text": [
      "Enter the binary string: 10010111\n",
      "binary\n"
     ]
    }
   ],
   "source": [
    "s = input(\"Enter the binary string: \")\n",
    "strSet = set(s)\n",
    "bin_Val = {\"0\",\"1\"}\n",
    "if bin_Val == strSet or strSet == {\"0\"} or strSet == {\"1\"}:\n",
    "    print(\"binary\")\n",
    "else:\n",
    "    print(\"Not binary string\")"
   ]
  },
  {
   "cell_type": "code",
   "execution_count": null,
   "metadata": {},
   "outputs": [],
   "source": []
  }
 ],
 "metadata": {
  "kernelspec": {
   "display_name": "Python 3",
   "language": "python",
   "name": "python3"
  },
  "language_info": {
   "codemirror_mode": {
    "name": "ipython",
    "version": 3
   },
   "file_extension": ".py",
   "mimetype": "text/x-python",
   "name": "python",
   "nbconvert_exporter": "python",
   "pygments_lexer": "ipython3",
   "version": "3.8.5"
  }
 },
 "nbformat": 4,
 "nbformat_minor": 4
}
