{
 "cells": [
  {
   "cell_type": "markdown",
   "metadata": {},
   "source": [
    "1 . Write a Python program to find words which are greater than given length k?\n",
    "2 . Write a Python program for removing i-th character from a string?\n",
    "3 . Write a Python program to split and join a string?\n",
    "4 . Write a Python to check if a given string is binary string or not?\n",
    "5 . Write a Python program to find uncommon words from two Strings?\n",
    "6 . Write a Python to find all duplicate characters in string?\n",
    "7 . Write a Python Program to check if a string contains any special character?"
   ]
  },
  {
   "cell_type": "markdown",
   "metadata": {},
   "source": [
    "1 . Write a Python program to find words which are greater than given length k?"
   ]
  },
  {
   "cell_type": "code",
   "execution_count": 1,
   "metadata": {},
   "outputs": [
    {
     "name": "stdout",
     "output_type": "stream",
     "text": [
      "Enter the length: 5\n",
      "Rithish\n",
      "wrrtutyitg\n",
      "2446756\n"
     ]
    }
   ],
   "source": [
    "n = [\"Rithish\",\"reddy\",\"Puli\",\"wrrtutyitg\",'2446756',\"gtfyi\"]\n",
    "k = int(input(\"Enter the length: \"))\n",
    "for i in n:\n",
    "    if len(i)>k:\n",
    "        print(i)"
   ]
  },
  {
   "cell_type": "code",
   "execution_count": 11,
   "metadata": {},
   "outputs": [],
   "source": [
    "def string_k(n,k):\n",
    "    strng = []\n",
    "    t =  n.split(\" \")\n",
    "    for i in t:\n",
    "        if len(i) > k:\n",
    "            strng.append(i)\n",
    "    return strng"
   ]
  },
  {
   "cell_type": "code",
   "execution_count": 12,
   "metadata": {},
   "outputs": [
    {
     "data": {
      "text/plain": [
       "['Write', 'Python', 'program', 'words', 'which', 'greater', 'given', 'length']"
      ]
     },
     "execution_count": 12,
     "metadata": {},
     "output_type": "execute_result"
    }
   ],
   "source": [
    "n = \"Write a Python program to find words which are greater than given length 4\"\n",
    "string_k(n,4)"
   ]
  },
  {
   "cell_type": "markdown",
   "metadata": {},
   "source": [
    "2 . Write a Python program for removing i-th character from a string?"
   ]
  },
  {
   "cell_type": "code",
   "execution_count": 18,
   "metadata": {},
   "outputs": [],
   "source": [
    "def string_ith(a,i):\n",
    "    x = a[:i]\n",
    "    y = a[i+1:]\n",
    "    return x+y"
   ]
  },
  {
   "cell_type": "code",
   "execution_count": 20,
   "metadata": {},
   "outputs": [
    {
     "data": {
      "text/plain": [
       "'gbfcswgbuh'"
      ]
     },
     "execution_count": 20,
     "metadata": {},
     "output_type": "execute_result"
    }
   ],
   "source": [
    "a = \"gbfycswgbuh\"\n",
    "string_ith(a,3)"
   ]
  },
  {
   "cell_type": "code",
   "execution_count": 22,
   "metadata": {},
   "outputs": [],
   "source": [
    "3 . Write a Python program to split and join a string?"
   ]
  },
  {
   "cell_type": "code",
   "execution_count": 48,
   "metadata": {},
   "outputs": [],
   "source": [
    "def split_join(strng):\n",
    "    s = strng.split()\n",
    "    j = \"-\".join(s)\n",
    "    return j"
   ]
  },
  {
   "cell_type": "code",
   "execution_count": 49,
   "metadata": {},
   "outputs": [
    {
     "data": {
      "text/plain": [
       "'Write-a-Python-program-to-split-and-join-a-string?'"
      ]
     },
     "execution_count": 49,
     "metadata": {},
     "output_type": "execute_result"
    }
   ],
   "source": [
    "x = \"Write a Python program to split and join a string?\"\n",
    "split_join(x)"
   ]
  },
  {
   "cell_type": "markdown",
   "metadata": {},
   "source": [
    "4 . Write a Python to check if a given string is binary string or not?"
   ]
  },
  {
   "cell_type": "code",
   "execution_count": 61,
   "metadata": {},
   "outputs": [],
   "source": [
    "def binary_str(string):\n",
    "    flag = True\n",
    "    for i in string:\n",
    "        if i == \"0\" or i == \"1\" :\n",
    "            continue\n",
    "        else:\n",
    "            flag = False\n",
    "            print(\"Not binary string\")\n",
    "            break\n",
    "    if(flag):\n",
    "        print(\"Binary string\")"
   ]
  },
  {
   "cell_type": "code",
   "execution_count": 62,
   "metadata": {},
   "outputs": [
    {
     "name": "stdout",
     "output_type": "stream",
     "text": [
      "Not binary string\n"
     ]
    }
   ],
   "source": [
    "b = \"10102901\"\n",
    "binary_str(b)"
   ]
  },
  {
   "cell_type": "code",
   "execution_count": 66,
   "metadata": {},
   "outputs": [
    {
     "name": "stdout",
     "output_type": "stream",
     "text": [
      "Enter the binary string: 10010111\n",
      "binary\n"
     ]
    }
   ],
   "source": [
    "s = input(\"Enter the binary string: \")\n",
    "strSet = set(s)\n",
    "bin_Val = {\"0\",\"1\"}\n",
    "if bin_Val == strSet or strSet == {\"0\"} or strSet == {\"1\"}:\n",
    "    print(\"binary\")\n",
    "else:\n",
    "    print(\"Not binary string\")"
   ]
  },
  {
   "cell_type": "markdown",
   "metadata": {},
   "source": [
    "5 . Write a Python program to find uncommon words from two Strings?"
   ]
  },
  {
   "cell_type": "code",
   "execution_count": 10,
   "metadata": {},
   "outputs": [
    {
     "name": "stdout",
     "output_type": "stream",
     "text": [
      "program\n",
      "find\n",
      "uncommon\n",
      "words\n",
      "from\n",
      "two\n",
      "Strings\n"
     ]
    }
   ],
   "source": [
    "s1 = \"Write a Python program to find uncommon words from two Strings\"\n",
    "s2 = \"Write a Python to check if a given string is binary string or not\"\n",
    "x = s1.split(\" \")\n",
    "y = s2.split(\" \")\n",
    "for i in x :\n",
    "    if i in y:\n",
    "        pass\n",
    "    else:\n",
    "        print(i)"
   ]
  },
  {
   "cell_type": "markdown",
   "metadata": {},
   "source": [
    "6 . Write a Python to find all duplicate characters in string?"
   ]
  },
  {
   "cell_type": "code",
   "execution_count": 12,
   "metadata": {},
   "outputs": [
    {
     "name": "stdout",
     "output_type": "stream",
     "text": [
      "r\n",
      "i\n",
      "t\n",
      "e\n",
      "a\n",
      "h\n",
      "o\n",
      "n\n",
      "d\n",
      "l\n",
      "c\n",
      "s\n"
     ]
    }
   ],
   "source": [
    "s = \"Write a Python to find all duplicate characters in string\"\n",
    "for i in range(0,len(s)):\n",
    "    count = 1 \n",
    "    for j in range(i+1, len(s)):  \n",
    "        if(s[i] == s[j] and s[i] != ' '):\n",
    "            count = count + 1;  \n",
    "            s = s[:j] + '0' + s[j+1:]  \n",
    "    if(count > 1 and s[i] != '0'):\n",
    "        print(s[i])"
   ]
  },
  {
   "cell_type": "markdown",
   "metadata": {},
   "source": [
    "7 . Write a Python Program to check if a string contains any special character?"
   ]
  },
  {
   "cell_type": "code",
   "execution_count": 13,
   "metadata": {},
   "outputs": [
    {
     "name": "stdout",
     "output_type": "stream",
     "text": [
      "Enter any string: bfvhbnjfnsj jfsnjnv54328712gvb @#$%^&*\n",
      "The string contains special characters.\n"
     ]
    }
   ],
   "source": [
    "import re\n",
    "string = input('Enter any string: ')\n",
    "# special characters\n",
    "special_char = re.compile('[@_!#$%^&*()<>?/\\|}{~:]')\n",
    "# check string contains special characters or not\n",
    "if(special_char.search(string) == None):\n",
    "    print('String does not contain any special characters.')\n",
    "else:\n",
    "    print('The string contains special characters.')"
   ]
  },
  {
   "cell_type": "code",
   "execution_count": null,
   "metadata": {},
   "outputs": [],
   "source": []
  }
 ],
 "metadata": {
  "kernelspec": {
   "display_name": "Python 3",
   "language": "python",
   "name": "python3"
  },
  "language_info": {
   "codemirror_mode": {
    "name": "ipython",
    "version": 3
   },
   "file_extension": ".py",
   "mimetype": "text/x-python",
   "name": "python",
   "nbconvert_exporter": "python",
   "pygments_lexer": "ipython3",
   "version": "3.8.5"
  }
 },
 "nbformat": 4,
 "nbformat_minor": 4
}
