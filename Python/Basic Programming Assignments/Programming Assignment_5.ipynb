{
 "cells": [
  {
   "cell_type": "markdown",
   "metadata": {},
   "source": [
    "1. Write a Python Program to Find LCM?\n",
    "2. Write a Python Program to Find HCF?\n",
    "3. Write a Python Program to Convert Decimal to Binary, Octal and Hexadecimal?\n",
    "4. Write a Python Program To Find ASCII value of a character?\n",
    "5. Write a Python Program to Make a Simple Calculator with 4 basic mathematical operations?"
   ]
  },
  {
   "cell_type": "markdown",
   "metadata": {},
   "source": [
    "1 . Write a Python Program to Find LCM?"
   ]
  },
  {
   "cell_type": "code",
   "execution_count": 5,
   "metadata": {},
   "outputs": [],
   "source": [
    "def LCM(a,b):\n",
    "    if a>b:\n",
    "        high = a\n",
    "    else:\n",
    "        high = b\n",
    "    while True :\n",
    "        if ((high%a==0) and (high%b==0)):\n",
    "            lcm = high\n",
    "            break\n",
    "        high += 1\n",
    "    print (lcm)\n",
    "\n",
    "#other method using gcd formula\n",
    "#lcm(a,b) = (a*b)/gcd(a,b)"
   ]
  },
  {
   "cell_type": "code",
   "execution_count": 7,
   "metadata": {},
   "outputs": [
    {
     "name": "stdout",
     "output_type": "stream",
     "text": [
      "65\n"
     ]
    }
   ],
   "source": [
    "LCM(5,13)"
   ]
  },
  {
   "cell_type": "markdown",
   "metadata": {},
   "source": [
    "2 . Write a Python Program to Find HCF?"
   ]
  },
  {
   "cell_type": "code",
   "execution_count": 3,
   "metadata": {},
   "outputs": [
    {
     "data": {
      "text/plain": [
       "6"
      ]
     },
     "execution_count": 3,
     "metadata": {},
     "output_type": "execute_result"
    }
   ],
   "source": [
    "#GCD and HCF is same \n",
    "def hcf(x,y):\n",
    "    if x>y:\n",
    "        small = y\n",
    "    else:\n",
    "        small = x\n",
    "    for i in range(1,small + 1):\n",
    "        if ((x%i==0) and (y%i==0)):\n",
    "            hcf = i\n",
    "    return hcf\n",
    "\n",
    "hcf(78,48)"
   ]
  },
  {
   "cell_type": "markdown",
   "metadata": {},
   "source": [
    "3 . Write a Python Program to Convert Decimal to Binary, Octal and Hexadecimal?"
   ]
  },
  {
   "cell_type": "code",
   "execution_count": 4,
   "metadata": {},
   "outputs": [
    {
     "name": "stdout",
     "output_type": "stream",
     "text": [
      "Enter the Decimal: 45\n",
      "0b101101 is binary of 45\n",
      "0o55 is octal of 45\n",
      "0x2d is hexadecimal of 45\n"
     ]
    }
   ],
   "source": [
    "dec = int(input(\"Enter the Decimal: \"))\n",
    "print(bin(dec), \"is binary of\", dec)\n",
    "print(oct(dec),\"is octal of\", dec)\n",
    "print(hex(dec),\"is hexadecimal of\", dec)"
   ]
  },
  {
   "cell_type": "markdown",
   "metadata": {},
   "source": [
    "4 . Write a Python Program To Find ASCII value of a character?"
   ]
  },
  {
   "cell_type": "code",
   "execution_count": 13,
   "metadata": {},
   "outputs": [
    {
     "name": "stdout",
     "output_type": "stream",
     "text": [
      "Enter the char: h\n"
     ]
    },
    {
     "data": {
      "text/plain": [
       "104"
      ]
     },
     "execution_count": 13,
     "metadata": {},
     "output_type": "execute_result"
    }
   ],
   "source": [
    "n = str(input(\"Enter the char: \"))\n",
    "#ord() and chr() are built in functions\n",
    "#ord() is for getting char ascii value \n",
    "ord(n)"
   ]
  },
  {
   "cell_type": "code",
   "execution_count": 15,
   "metadata": {},
   "outputs": [
    {
     "data": {
      "text/plain": [
       "'h'"
      ]
     },
     "execution_count": 15,
     "metadata": {},
     "output_type": "execute_result"
    }
   ],
   "source": [
    "#and chr() is for geting char from ascii value \n",
    "chr(104)"
   ]
  },
  {
   "cell_type": "markdown",
   "metadata": {},
   "source": [
    "5 . Write a Python Program to Make a Simple Calculator with 4 basic mathematical operations?"
   ]
  },
  {
   "cell_type": "code",
   "execution_count": 32,
   "metadata": {},
   "outputs": [
    {
     "name": "stdout",
     "output_type": "stream",
     "text": [
      "Select a number mathematical operation\n",
      "1 for Add\n",
      "2 for Sub\n",
      "3 for mul\n",
      "4 for Div\n",
      "Enter the operation: 3\n",
      "Enter the 1st no 54\n",
      "enter the 2nd no 35\n",
      "1890.0\n"
     ]
    }
   ],
   "source": [
    "def add(a,b):\n",
    "    return a + b\n",
    "def sub(a,b):\n",
    "    return a-b\n",
    "def mul(a,b):\n",
    "    return a*b\n",
    "def div(a,b):\n",
    "    return \"error\" if b==0 else a/b\n",
    "\n",
    "print(\"Select a number mathematical operation\")\n",
    "print(\"1 for Add\")\n",
    "print(\"2 for Sub\")\n",
    "print(\"3 for mul\")\n",
    "print(\"4 for Div\")\n",
    "\n",
    "while True :\n",
    "    n = input(\"Enter the operation: \")\n",
    "    if n in ('1','2','3','4'):\n",
    "        a = float(input(\"Enter the 1st no \"))\n",
    "        b = float(input(\"enter the 2nd no \"))\n",
    "        if n == '1':\n",
    "            print(add(a,b))\n",
    "        elif n=='2':\n",
    "            print (sub(a,b))\n",
    "        elif n=='3':\n",
    "            print(mul(a,b))\n",
    "        elif n=='4':\n",
    "            print(Div(a,b))\n",
    "        break\n",
    "    else:\n",
    "        print(\"invalid operation\")"
   ]
  },
  {
   "cell_type": "code",
   "execution_count": null,
   "metadata": {},
   "outputs": [],
   "source": []
  }
 ],
 "metadata": {
  "kernelspec": {
   "display_name": "Python 3",
   "language": "python",
   "name": "python3"
  },
  "language_info": {
   "codemirror_mode": {
    "name": "ipython",
    "version": 3
   },
   "file_extension": ".py",
   "mimetype": "text/x-python",
   "name": "python",
   "nbconvert_exporter": "python",
   "pygments_lexer": "ipython3",
   "version": "3.8.5"
  }
 },
 "nbformat": 4,
 "nbformat_minor": 4
}
