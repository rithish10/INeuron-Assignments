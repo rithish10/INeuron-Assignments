{
 "cells": [
  {
   "cell_type": "markdown",
   "metadata": {},
   "source": [
    "1. Write a Python Program to Find the Factorial of a Number?\n",
    "2. Write a Python Program to Display the multiplication Table?\n",
    "3. Write a Python Program to Print the Fibonacci sequence?\n",
    "4. Write a Python Program to Check Armstrong Number?\n",
    "5. Write a Python Program to Find Armstrong Number in an Interval?\n",
    "6. Write a Python Program to Find the Sum of Natural Numbers?"
   ]
  },
  {
   "cell_type": "markdown",
   "metadata": {},
   "source": [
    "1. Write a Python Program to Find the Factorial of a Number?"
   ]
  },
  {
   "cell_type": "code",
   "execution_count": 12,
   "metadata": {},
   "outputs": [
    {
     "name": "stdout",
     "output_type": "stream",
     "text": [
      "Enter the factorial no: 5\n",
      "Factorial of n is  120\n",
      "Factorial of 6 is  720\n",
      "Factorial of 6 is  5040\n"
     ]
    }
   ],
   "source": [
    "n = int(input(\"Enter the factorial no: \"))\n",
    "x = 1\n",
    "if n<0:\n",
    "    print(\"No factorial for negative numbers\")\n",
    "elif n==0:\n",
    "    print(\"Factorial of 0 is 1\")\n",
    "else:\n",
    "    for i in range (1,n+1):\n",
    "        x= x*i\n",
    "    print(\"Factorial of n is \",x)\n",
    "\n",
    "#OR \n",
    "def fact(n):\n",
    "    return 1 if (n==1 or n==0) else n*fact(n-1)\n",
    "fact(6)\n",
    "print(\"Factorial of 6 is \",fact(6))\n",
    "\n",
    "#OR\n",
    "import math \n",
    "def fact1(n):\n",
    "    return math.factorial(n)\n",
    "print(\"Factorial of 6 is \",fact1(7))"
   ]
  },
  {
   "cell_type": "markdown",
   "metadata": {},
   "source": [
    "2. Write a Python Program to Display the multiplication Table?"
   ]
  },
  {
   "cell_type": "code",
   "execution_count": 15,
   "metadata": {},
   "outputs": [
    {
     "name": "stdout",
     "output_type": "stream",
     "text": [
      "Enter the no of multiplication table: 5\n",
      "5 times 1 is 5\n",
      "5 times 2 is 10\n",
      "5 times 3 is 15\n",
      "5 times 4 is 20\n",
      "5 times 5 is 25\n",
      "5 times 6 is 30\n",
      "5 times 7 is 35\n",
      "5 times 8 is 40\n",
      "5 times 9 is 45\n",
      "5 times 10 is 50\n"
     ]
    }
   ],
   "source": [
    "n = int(input(\"Enter the no of multiplication table: \"))\n",
    "for i in range(1,11):\n",
    "    print(n,\"times\",i,\"is\",n*i)"
   ]
  },
  {
   "cell_type": "markdown",
   "metadata": {},
   "source": [
    "3. Write a Python Program to Print the Fibonacci sequence?"
   ]
  },
  {
   "cell_type": "code",
   "execution_count": 34,
   "metadata": {},
   "outputs": [
    {
     "name": "stdout",
     "output_type": "stream",
     "text": [
      "Enter the fibonacci no terms: 7\n",
      "0\n",
      "1\n",
      "1\n",
      "2\n",
      "3\n",
      "5\n",
      "8\n",
      "no of terms: 7\n",
      "fibonacci sequence is: \n",
      "0\n",
      "1\n",
      "1\n",
      "2\n",
      "3\n",
      "5\n",
      "8\n",
      "value of fib(6) 8\n"
     ]
    }
   ],
   "source": [
    "n = int(input(\"Enter the fibonacci no terms: \"))\n",
    "a = 0\n",
    "b = 1\n",
    "if n>1 :\n",
    "    print(a)\n",
    "    print(b)\n",
    "    for i in range(0,n-2):\n",
    "        a,b = b, a+b\n",
    "        \n",
    "        print(b)\n",
    "elif n == 1:\n",
    "    print(a)\n",
    "else:\n",
    "    print(\"Enter positive number\")\n",
    "\n",
    "#OR\n",
    "n = int(input(\"no of terms: \"))\n",
    "n1=0\n",
    "n2=1\n",
    "count=0\n",
    "if n<=0:\n",
    "    print(\"invalid\")\n",
    "elif n==1:\n",
    "    print(n1)\n",
    "else:\n",
    "    print(\"fibonacci sequence is: \")\n",
    "    while count < n:\n",
    "        print(n1)\n",
    "        n3=n1+ n2\n",
    "        n1 = n2\n",
    "        n2 = n3\n",
    "        count+=1\n",
    "    \n",
    "#This is for fib number\n",
    "def fib(n):\n",
    "    if n<0:\n",
    "        print(\"Invalid\")\n",
    "    elif n==0:\n",
    "        return 0\n",
    "    elif n==1 or n==2:\n",
    "        return 1\n",
    "    else:\n",
    "        return fib(n-1) + fib(n-2)\n",
    "print(\"value of fib(6)\",fib(6))"
   ]
  },
  {
   "cell_type": "markdown",
   "metadata": {},
   "source": [
    "4 . Write a Python Program to Check Armstrong Number?"
   ]
  },
  {
   "cell_type": "code",
   "execution_count": 57,
   "metadata": {},
   "outputs": [
    {
     "name": "stdout",
     "output_type": "stream",
     "text": [
      "Enter the no to check: 1634\n",
      "1634  is Armstrong number\n"
     ]
    }
   ],
   "source": [
    "\"\"\"\n",
    "A positive integer is called an Armstrong number of order n if\n",
    "abcd... = an + bn + cn + dn + ...\n",
    "In case of an Armstrong number of 3 digits, the sum of cubes of each digit is equal to the number itself. For example:\n",
    "153 = 1*1*1 + 5*5*5 + 3*3*3  // 153 is an Armstrong number.\n",
    "\"\"\"\n",
    "n = int(input(\"Enter the no to check: \"))\n",
    "sum = 0\n",
    "order = len(str(n))\n",
    "temp = n\n",
    "while temp>0:\n",
    "    digit = temp%10\n",
    "    sum += digit**order\n",
    "    temp//=10\n",
    "if n == sum:\n",
    "    print(n,\" is Armstrong number\")\n",
    "else:\n",
    "    print(n,\" is not a Armstrong number\")"
   ]
  },
  {
   "cell_type": "markdown",
   "metadata": {},
   "source": [
    "5 . Write a Python Program to Find Armstrong Number in an Interval?"
   ]
  },
  {
   "cell_type": "code",
   "execution_count": 66,
   "metadata": {},
   "outputs": [
    {
     "name": "stdout",
     "output_type": "stream",
     "text": [
      "153  is Armstrong numbers between 10,100000\n",
      "370  is Armstrong numbers between 10,100000\n",
      "371  is Armstrong numbers between 10,100000\n",
      "407  is Armstrong numbers between 10,100000\n",
      "1634  is Armstrong numbers between 10,100000\n",
      "8208  is Armstrong numbers between 10,100000\n",
      "9474  is Armstrong numbers between 10,100000\n",
      "54748  is Armstrong numbers between 10,100000\n",
      "92727  is Armstrong numbers between 10,100000\n",
      "93084  is Armstrong numbers between 10,100000\n"
     ]
    }
   ],
   "source": [
    "for i in range(10,100000):\n",
    "    sum = 0\n",
    "    order = len(str(i))\n",
    "    temp =i\n",
    "    while temp>0:\n",
    "        digit = temp%10\n",
    "        sum+=digit**order\n",
    "        temp//=10\n",
    "    if i == sum:\n",
    "        print(i,\" is Armstrong numbers between 10,100000\")"
   ]
  },
  {
   "cell_type": "markdown",
   "metadata": {},
   "source": [
    "6 . Write a Python Program to Find the Sum of Natural Numbers?"
   ]
  },
  {
   "cell_type": "code",
   "execution_count": 70,
   "metadata": {},
   "outputs": [
    {
     "name": "stdout",
     "output_type": "stream",
     "text": [
      "Enter the terms of natural numbers: 25\n",
      "Sum of 25th natural numbers is 325.0 \n",
      "Enter the terms of natural numbers: 25\n",
      "Sum is  325\n"
     ]
    }
   ],
   "source": [
    "n = int(input(\"Enter the terms of natural numbers: \"))\n",
    "S = (n*(n+1))/2\n",
    "print(\"Sum of {}th natural numbers is {} \".format(n,S))\n",
    "\n",
    "#OR\n",
    "n = int(input(\"Enter the terms of natural numbers: \"))\n",
    "sum = 0\n",
    "while n>0:\n",
    "    sum+=n\n",
    "    n-=1\n",
    "print(\"Sum is \",sum)"
   ]
  }
 ],
 "metadata": {
  "kernelspec": {
   "display_name": "Python 3",
   "language": "python",
   "name": "python3"
  },
  "language_info": {
   "codemirror_mode": {
    "name": "ipython",
    "version": 3
   },
   "file_extension": ".py",
   "mimetype": "text/x-python",
   "name": "python",
   "nbconvert_exporter": "python",
   "pygments_lexer": "ipython3",
   "version": "3.8.5"
  }
 },
 "nbformat": 4,
 "nbformat_minor": 4
}
