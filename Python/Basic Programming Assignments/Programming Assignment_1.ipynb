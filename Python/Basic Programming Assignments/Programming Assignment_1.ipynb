{
 "cells": [
  {
   "cell_type": "markdown",
   "metadata": {},
   "source": [
    "1. Write a Python program to print \"Hello Python\"?\n",
    "2. Write a Python program to do arithmetical operations addition and division.?\n",
    "3. Write a Python program to find the area of a triangle?\n",
    "4. Write a Python program to swap two variables?\n",
    "5. Write a Python program to generate a random number?"
   ]
  },
  {
   "cell_type": "code",
   "execution_count": 21,
   "metadata": {},
   "outputs": [
    {
     "name": "stdout",
     "output_type": "stream",
     "text": [
      "Hello Python\n"
     ]
    }
   ],
   "source": [
    "#1\n",
    "print(\"Hello Python\")"
   ]
  },
  {
   "cell_type": "code",
   "execution_count": 32,
   "metadata": {},
   "outputs": [
    {
     "name": "stdout",
     "output_type": "stream",
     "text": [
      "Enter the first no: 4656\n",
      "Enter the second no: 58787\n",
      "63443\n",
      "<function div at 0x000001A182B25430>\n"
     ]
    }
   ],
   "source": [
    "#2\n",
    "def add(a,b):\n",
    "    return a + b\n",
    "def div(a,b):\n",
    "    try :\n",
    "        print (a/b) \n",
    "    except:\n",
    "        print(\"Zero divison error\")\n",
    "        \n",
    "# (OR)\n",
    "x = int(input(\"Enter the first no: \"))\n",
    "y = int(input(\"Enter the second no: \"))\n",
    "Add = x + y\n",
    "print(Add)\n",
    "if y!=0:\n",
    "    Div = x/y\n",
    "    print(div)\n",
    "else:\n",
    "    print(\"zero divison error\")"
   ]
  },
  {
   "cell_type": "code",
   "execution_count": 36,
   "metadata": {},
   "outputs": [
    {
     "name": "stdout",
     "output_type": "stream",
     "text": [
      "Enter the base: 4\n",
      "Enter the height: 6\n",
      "Area of the traingle:  12.0\n",
      "Enter the first side: 7\n",
      "Enter the second side: 9\n",
      "Enter the third side: 13\n",
      "Area of the triangle 29.95\n"
     ]
    }
   ],
   "source": [
    "#3) If base and height are given\n",
    "b = int(input(\"Enter the base: \"))\n",
    "h = int(input(\"Enter the height: \"))\n",
    "area = (b*h)/2\n",
    "print(\"Area of the traingle: \",area)\n",
    "\n",
    "#OR\n",
    "#If sides are given\n",
    "a= int(input(\"Enter the first side: \"))\n",
    "b = int (input(\"Enter the second side: \"))\n",
    "c = int(input(\"Enter the third side: \"))\n",
    "s = (a+b+c)/2\n",
    "area = (s*(s-a)*(s-b)*(s-c))**0.5 #import math , math.sqrt() can also be used \n",
    "print(\"Area of the triangle %0.2f\" %area)"
   ]
  },
  {
   "cell_type": "code",
   "execution_count": 39,
   "metadata": {},
   "outputs": [
    {
     "name": "stdout",
     "output_type": "stream",
     "text": [
      "Enter the 1st no : 4\n",
      "Enter the 2nd no :  6\n",
      "6 4\n",
      "Enter the 1st no : 8\n",
      "Enter the 2nd no :  9\n",
      "9 8\n"
     ]
    }
   ],
   "source": [
    "a = int(input(\"Enter the 1st no : \"))\n",
    "b = int(input(\"Enter the 2nd no :  \"))\n",
    "a,b = b,a\n",
    "print(a,b)\n",
    "#OR\n",
    "x = int(input(\"Enter the 1st no : \"))\n",
    "y = int(input(\"Enter the 2nd no :  \"))\n",
    "temp = x\n",
    "x = y\n",
    "y = temp \n",
    "print(x,y)"
   ]
  },
  {
   "cell_type": "code",
   "execution_count": 40,
   "metadata": {},
   "outputs": [
    {
     "data": {
      "text/plain": [
       "64"
      ]
     },
     "execution_count": 40,
     "metadata": {},
     "output_type": "execute_result"
    }
   ],
   "source": [
    "import random\n",
    "random.randint(0,100)"
   ]
  }
 ],
 "metadata": {
  "kernelspec": {
   "display_name": "Python 3",
   "language": "python",
   "name": "python3"
  },
  "language_info": {
   "codemirror_mode": {
    "name": "ipython",
    "version": 3
   },
   "file_extension": ".py",
   "mimetype": "text/x-python",
   "name": "python",
   "nbconvert_exporter": "python",
   "pygments_lexer": "ipython3",
   "version": "3.8.5"
  }
 },
 "nbformat": 4,
 "nbformat_minor": 4
}
