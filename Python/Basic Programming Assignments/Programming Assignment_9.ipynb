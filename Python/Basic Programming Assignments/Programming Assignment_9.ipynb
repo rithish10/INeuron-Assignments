{
 "cells": [
  {
   "cell_type": "markdown",
   "metadata": {},
   "source": [
    "1 . Write a Python program to check if the given number is a Disarium Number?\n",
    "2 . Write a Python program to print all disarium numbers between 1 to 100?\n",
    "3 . Write a Python program to check if the given number is Happy Number?\n",
    "4 . Write a Python program to print all happy numbers between 1 and 100?\n",
    "5 . Write a Python program to determine whether the given number is a Harshad Number?\n",
    "6 . Write a Python program to print all pronic numbers between 1 and 100?"
   ]
  },
  {
   "cell_type": "markdown",
   "metadata": {},
   "source": [
    "1 . Write a Python program to check if the given number is a Disarium Number"
   ]
  },
  {
   "cell_type": "markdown",
   "metadata": {},
   "source": [
    " disarium number is a number in which the sum of the digits to the power of their respective position is equal to the number itself (position is counted from left to right starting from 1). Hence,175 is a disarium number."
   ]
  },
  {
   "cell_type": "code",
   "execution_count": 42,
   "metadata": {},
   "outputs": [
    {
     "name": "stdout",
     "output_type": "stream",
     "text": [
      "Enter the number: 598\n",
      "598  is a Disarium Number\n"
     ]
    }
   ],
   "source": [
    "n = int(input(\"Enter the number: \"))\n",
    "sum_ = 0\n",
    "temp = n\n",
    "order = len(str(n))\n",
    "if n>0 :\n",
    "    for i in range(order,0,-1):\n",
    "        while temp>0:\n",
    "            d = temp%10\n",
    "            sum_ += d**i\n",
    "            break\n",
    "        temp//=10\n",
    "    if n == sum_ :\n",
    "        print(n,\" is a Disarium Number\")\n",
    "    else:\n",
    "        print(n,\" is not a Disarium Number\")\n",
    "else:\n",
    "    print(\"Invalid Number to check for Disarium Number\")"
   ]
  },
  {
   "cell_type": "markdown",
   "metadata": {},
   "source": [
    "2 . Write a Python program to print all disarium numbers between 1 to 100?"
   ]
  },
  {
   "cell_type": "code",
   "execution_count": 49,
   "metadata": {},
   "outputs": [
    {
     "name": "stdout",
     "output_type": "stream",
     "text": [
      "Disarium Numbers between 1 to 100 are: \n",
      "1\n",
      "2\n",
      "3\n",
      "4\n",
      "5\n",
      "6\n",
      "7\n",
      "8\n",
      "9\n",
      "89\n"
     ]
    }
   ],
   "source": [
    "print(\"Disarium Numbers between 1 to 100 are: \")\n",
    "for n in range(1,101):\n",
    "    sum_ = 0\n",
    "    temp = n\n",
    "    order = len(str(n))\n",
    "    if n>0 :\n",
    "        for i in range(order,0,-1):\n",
    "            while temp>0:\n",
    "                d = temp%10\n",
    "                sum_ += d**i\n",
    "                break\n",
    "            temp//=10\n",
    "        if n == sum_ :\n",
    "            print(n)\n",
    "    else:\n",
    "        print(\"Invalid Number to check for Disarium Number\")"
   ]
  },
  {
   "cell_type": "markdown",
   "metadata": {},
   "source": [
    "3 . Write a Python program to check if the given number is Happy Number?"
   ]
  },
  {
   "cell_type": "markdown",
   "metadata": {},
   "source": [
    "In number theory, a happy number is a number which eventually reaches 1 when replaced by the sum of the square of each digit. For instance, 13 is a happy number because {\\displaystyle 1^{2}+3^{2}=10}{\\displaystyle 1^{2}+3^{2}=10}, and {\\displaystyle 1^{2}+0^{2}=1}{\\displaystyle 1^{2}+0^{2}=1}. On the other hand, 4 is not a happy number because the sequence starting with {\\displaystyle 4^{2}=16}{\\displaystyle 4^{2}=16} and {\\displaystyle 1^{2}+6^{2}=37}{\\displaystyle 1^{2}+6^{2}=37} eventually reaches {\\displaystyle 2^{2}+0^{2}=4}{\\displaystyle 2^{2}+0^{2}=4}, the number that started the sequence, and so the process continues in an infinite cycle without ever reaching 1. A number which is not happy is called sad or unhappy."
   ]
  },
  {
   "cell_type": "code",
   "execution_count": 5,
   "metadata": {},
   "outputs": [],
   "source": [
    "def happy_numbers(n):\n",
    "    past = set()\n",
    "    while n != 1:\n",
    "        n = sum(int(i)**2 for i in str(n))\n",
    "        if n in past:\n",
    "            return False\n",
    "        past.add(n)\n",
    "    return True"
   ]
  },
  {
   "cell_type": "code",
   "execution_count": 6,
   "metadata": {},
   "outputs": [
    {
     "data": {
      "text/plain": [
       "True"
      ]
     },
     "execution_count": 6,
     "metadata": {},
     "output_type": "execute_result"
    }
   ],
   "source": [
    "happy_numbers(49)"
   ]
  },
  {
   "cell_type": "markdown",
   "metadata": {},
   "source": [
    "4 . Write a Python program to print all happy numbers between 1 and 100?"
   ]
  },
  {
   "cell_type": "code",
   "execution_count": 10,
   "metadata": {},
   "outputs": [
    {
     "name": "stdout",
     "output_type": "stream",
     "text": [
      "1\n",
      "7\n",
      "10\n",
      "13\n",
      "19\n",
      "23\n",
      "28\n",
      "31\n",
      "32\n",
      "44\n",
      "49\n",
      "68\n",
      "70\n",
      "79\n",
      "82\n",
      "86\n",
      "91\n",
      "94\n",
      "97\n"
     ]
    }
   ],
   "source": [
    "def happy_numbers(n):\n",
    "    temp = set()\n",
    "    while n != 1:\n",
    "        n = sum(int(i)**2 for i in str(n))\n",
    "        if n in temp:\n",
    "            return False\n",
    "        temp.add(n)\n",
    "    return True\n",
    "for i in range(1,100):\n",
    "    if happy_numbers(i)== True:\n",
    "        print(i)"
   ]
  },
  {
   "cell_type": "markdown",
   "metadata": {},
   "source": [
    "5 . Write a Python program to determine whether the given number is a Harshad Number?"
   ]
  },
  {
   "cell_type": "markdown",
   "metadata": {},
   "source": [
    "In mathematics, a harshad number (or Niven number) in a given number base is an integer that is divisible by the sum of its digits when written in that base. Harshad numbers in base n are also known as n-harshad (or n-Niven) numbers. Harshad numbers were defined by D. R. Kaprekar, a mathematician from India."
   ]
  },
  {
   "cell_type": "code",
   "execution_count": 20,
   "metadata": {},
   "outputs": [
    {
     "name": "stdout",
     "output_type": "stream",
     "text": [
      "Enter a number: 6804\n",
      "It's Harshad Number\n"
     ]
    }
   ],
   "source": [
    "n  = int(input(\"Enter a number: \"))\n",
    "sum_ = 0\n",
    "for i in str(n):\n",
    "    sum_ += int(i)\n",
    "if n % sum_ == 0:\n",
    "    print (\"It's Harshad Number\")\n",
    "else:\n",
    "    print(\"Not a Harshad number\")   "
   ]
  },
  {
   "cell_type": "code",
   "execution_count": 22,
   "metadata": {},
   "outputs": [
    {
     "name": "stdout",
     "output_type": "stream",
     "text": [
      "Harshad Numbers between 1 to 100 are: \n",
      "1\n",
      "2\n",
      "3\n",
      "4\n",
      "5\n",
      "6\n",
      "7\n",
      "8\n",
      "9\n",
      "10\n",
      "12\n",
      "18\n",
      "20\n",
      "21\n",
      "24\n",
      "27\n",
      "30\n",
      "36\n",
      "40\n",
      "42\n",
      "45\n",
      "48\n",
      "50\n",
      "54\n",
      "60\n",
      "63\n",
      "70\n",
      "72\n",
      "80\n",
      "81\n",
      "84\n",
      "90\n",
      "100\n"
     ]
    }
   ],
   "source": [
    "print (\"Harshad Numbers between 1 to 100 are: \")\n",
    "for n in range(1,101):\n",
    "    sum_ = 0\n",
    "    for i in str(n):\n",
    "        sum_ += int(i)\n",
    "    if n % sum_ == 0:\n",
    "        print(n) "
   ]
  },
  {
   "cell_type": "code",
   "execution_count": null,
   "metadata": {},
   "outputs": [],
   "source": []
  }
 ],
 "metadata": {
  "kernelspec": {
   "display_name": "Python 3",
   "language": "python",
   "name": "python3"
  },
  "language_info": {
   "codemirror_mode": {
    "name": "ipython",
    "version": 3
   },
   "file_extension": ".py",
   "mimetype": "text/x-python",
   "name": "python",
   "nbconvert_exporter": "python",
   "pygments_lexer": "ipython3",
   "version": "3.8.5"
  }
 },
 "nbformat": 4,
 "nbformat_minor": 4
}
