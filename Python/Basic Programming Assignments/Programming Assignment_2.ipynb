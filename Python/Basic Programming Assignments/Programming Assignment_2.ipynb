{
 "cells": [
  {
   "cell_type": "markdown",
   "metadata": {},
   "source": [
    "1. Write a Python program to convert kilometers to miles?"
   ]
  },
  {
   "cell_type": "code",
   "execution_count": 14,
   "metadata": {},
   "outputs": [
    {
     "name": "stdout",
     "output_type": "stream",
     "text": [
      "Enter the no of kilometers which to be converted: 6778.6\n",
      "6778.6 Kilometers = 4212.0254606 miles \n"
     ]
    }
   ],
   "source": [
    "Km = float(input(\"Enter the no of kilometers which to be converted: \"))\n",
    "mi = 0.621371 * (Km)\n",
    "print(\"{} Kilometers = {} miles \".format(Km,mi))"
   ]
  },
  {
   "cell_type": "markdown",
   "metadata": {},
   "source": [
    "2. Write a Python program to convert Celsius to Fahrenheit?"
   ]
  },
  {
   "cell_type": "code",
   "execution_count": 17,
   "metadata": {},
   "outputs": [
    {
     "name": "stdout",
     "output_type": "stream",
     "text": [
      "Enter the temperature in Celsius: 32\n",
      "32.0 Celcius = 89.6 Fahrenheit\n"
     ]
    }
   ],
   "source": [
    "c= float(input(\"Enter the temperature in Celsius: \"))\n",
    "f = (c * 9/5) + 32\n",
    "print(\"{} Celcius = {} Fahrenheit\".format(c,f))"
   ]
  },
  {
   "cell_type": "markdown",
   "metadata": {},
   "source": [
    "3. Write a Python program to display calendar?"
   ]
  },
  {
   "cell_type": "code",
   "execution_count": 31,
   "metadata": {},
   "outputs": [
    {
     "name": "stdout",
     "output_type": "stream",
     "text": [
      "Enter the year: 2021\n",
      "Enter the month: 7\n",
      "     July 2021\n",
      "Mo Tu We Th Fr Sa Su\n",
      "          1  2  3  4\n",
      " 5  6  7  8  9 10 11\n",
      "12 13 14 15 16 17 18\n",
      "19 20 21 22 23 24 25\n",
      "26 27 28 29 30 31\n",
      "\n"
     ]
    }
   ],
   "source": [
    "import calendar\n",
    "year = int(input(\"Enter the year: \"))\n",
    "month = int(input(\"Enter the month: \")) \n",
    "print(calendar.month(year,month))"
   ]
  },
  {
   "cell_type": "markdown",
   "metadata": {},
   "source": [
    "4. Write a Python program to solve quadratic equation?"
   ]
  },
  {
   "cell_type": "code",
   "execution_count": 28,
   "metadata": {},
   "outputs": [
    {
     "name": "stdout",
     "output_type": "stream",
     "text": [
      "Enter a in ax*2 + bx + c = 0 : 7\n",
      "Enter b in ax*2 + bx + c = 0: 13\n",
      "Enter c in ax*2 + bx + c = 0: 9\n",
      "Quadratic solutions of a equation is (-45.5+52.61653732430518j) and (-45.5-52.61653732430518j)\n"
     ]
    }
   ],
   "source": [
    "import cmath\n",
    "#suppose 7x*2 + 13x + 9 = 0 is the quadratic equation a, b, c as 7,13,9 respectively\n",
    "a = int(input(\"Enter a in ax*2 + bx + c = 0 : \"))\n",
    "b = int(input(\"Enter b in ax*2 + bx + c = 0: \"))\n",
    "c = int(input(\"Enter c in ax*2 + bx + c = 0: \"))\n",
    "\n",
    "d = b*2-4*a*c\n",
    "\n",
    "x1 = (-b + cmath.sqrt(d))/2*a\n",
    "x2 = (-b - cmath.sqrt(d))/2*a\n",
    "print(\"Quadratic solutions of a equation is {} and {}\".format(x1,x2))"
   ]
  },
  {
   "cell_type": "markdown",
   "metadata": {},
   "source": [
    "5. Write a Python program to swap two variables without temp variable?"
   ]
  },
  {
   "cell_type": "code",
   "execution_count": 29,
   "metadata": {},
   "outputs": [
    {
     "name": "stdout",
     "output_type": "stream",
     "text": [
      "10\n",
      "5\n"
     ]
    }
   ],
   "source": [
    "a = 5\n",
    "b = 10\n",
    "a,b = b,a \n",
    "print(a)\n",
    "print(b)"
   ]
  }
 ],
 "metadata": {
  "kernelspec": {
   "display_name": "Python 3",
   "language": "python",
   "name": "python3"
  },
  "language_info": {
   "codemirror_mode": {
    "name": "ipython",
    "version": 3
   },
   "file_extension": ".py",
   "mimetype": "text/x-python",
   "name": "python",
   "nbconvert_exporter": "python",
   "pygments_lexer": "ipython3",
   "version": "3.8.5"
  }
 },
 "nbformat": 4,
 "nbformat_minor": 4
}
