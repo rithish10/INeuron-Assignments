{
 "cells": [
  {
   "cell_type": "markdown",
   "metadata": {},
   "source": [
    "1 . Write a Python program to find sum of elements in list?\n",
    "2 . Write a Python program to Multiply all numbers in the list?\n",
    "3 . Write a Python program to find smallest number in a list?\n",
    "4 . Write a Python program to find largest number in a list?\n",
    "5 . Write a Python program to find second largest number in a list?\n",
    "6 . Write a Python program to find N largest elements from a list?\n",
    "7 . Write a Python program to print even numbers in a list?\n",
    "8 . Write a Python program to print odd numbers in a List?\n",
    "9 . Write a Python program to Remove empty List from List?\n",
    "10 . Write a Python program to Cloning or Copying a list?\n",
    "11 . Write a Python program to Count occurrences of an element in a list?"
   ]
  },
  {
   "cell_type": "markdown",
   "metadata": {},
   "source": [
    "1 . Write a Python program to find sum of elements in list?"
   ]
  },
  {
   "cell_type": "code",
   "execution_count": 6,
   "metadata": {},
   "outputs": [
    {
     "name": "stdout",
     "output_type": "stream",
     "text": [
      "15\n"
     ]
    },
    {
     "data": {
      "text/plain": [
       "21"
      ]
     },
     "execution_count": 6,
     "metadata": {},
     "output_type": "execute_result"
    }
   ],
   "source": [
    "lst  = [1,2,3,4,5]\n",
    "sum_ = 0\n",
    "for i in lst:\n",
    "    sum_ += i\n",
    "print(sum_)\n",
    "#or \n",
    "lst = [1,2,3,4,5,6]\n",
    "sum(lst)"
   ]
  },
  {
   "cell_type": "markdown",
   "metadata": {},
   "source": [
    "2 . Write a Python program to Multiply all numbers in the list?"
   ]
  },
  {
   "cell_type": "code",
   "execution_count": 10,
   "metadata": {},
   "outputs": [
    {
     "name": "stdout",
     "output_type": "stream",
     "text": [
      "1200\n"
     ]
    }
   ],
   "source": [
    "lst = [1,2,3,4,5,10]\n",
    "mul = 1\n",
    "for i in lst:\n",
    "    mul*= i\n",
    "print(mul)"
   ]
  },
  {
   "cell_type": "markdown",
   "metadata": {},
   "source": [
    "3 . Write a Python program to find smallest number in a list?"
   ]
  },
  {
   "cell_type": "code",
   "execution_count": 19,
   "metadata": {},
   "outputs": [
    {
     "name": "stdout",
     "output_type": "stream",
     "text": [
      "-999\n"
     ]
    }
   ],
   "source": [
    "lst = [12,45,7,365,-23,-999,69,2,21]\n",
    "small = lst[0]\n",
    "for i in range(len(lst)):\n",
    "    if lst[i]< small:\n",
    "        small = lst[i]\n",
    "print(small)"
   ]
  },
  {
   "cell_type": "code",
   "execution_count": 26,
   "metadata": {},
   "outputs": [
    {
     "data": {
      "text/plain": [
       "-999"
      ]
     },
     "execution_count": 26,
     "metadata": {},
     "output_type": "execute_result"
    }
   ],
   "source": [
    "#OR\n",
    "lst = [12,45,7,365,-23,-999,69,2,21]\n",
    "lst.sort()\n",
    "lst[:-1][0]"
   ]
  },
  {
   "cell_type": "code",
   "execution_count": 28,
   "metadata": {},
   "outputs": [
    {
     "data": {
      "text/plain": [
       "-81"
      ]
     },
     "execution_count": 28,
     "metadata": {},
     "output_type": "execute_result"
    }
   ],
   "source": [
    "#OR\n",
    "lst = [12,45,7,365,-23,-81,69,2,21]\n",
    "min(lst)"
   ]
  },
  {
   "cell_type": "markdown",
   "metadata": {},
   "source": [
    "4 . Write a Python program to find largest number in a list?"
   ]
  },
  {
   "cell_type": "code",
   "execution_count": 32,
   "metadata": {},
   "outputs": [
    {
     "name": "stdout",
     "output_type": "stream",
     "text": [
      "365\n"
     ]
    }
   ],
   "source": [
    "lst = [123,12,7,365,-23,-81,69,2,21]\n",
    "max_ = lst[0]\n",
    "for i in range(len(lst)):\n",
    "    if lst[i]> max_ :\n",
    "        max_ = lst[i]\n",
    "print(max_)"
   ]
  },
  {
   "cell_type": "code",
   "execution_count": 34,
   "metadata": {},
   "outputs": [
    {
     "data": {
      "text/plain": [
       "1234"
      ]
     },
     "execution_count": 34,
     "metadata": {},
     "output_type": "execute_result"
    }
   ],
   "source": [
    "lst = [1234,45,7,365,-23,-81,69,2,21]\n",
    "max(lst)"
   ]
  },
  {
   "cell_type": "markdown",
   "metadata": {},
   "source": [
    "5 . Write a Python program to find second largest number in a list?"
   ]
  },
  {
   "cell_type": "code",
   "execution_count": 39,
   "metadata": {},
   "outputs": [
    {
     "name": "stdout",
     "output_type": "stream",
     "text": [
      "1234  is 2nd largest number in list\n"
     ]
    }
   ],
   "source": [
    "lst = [1233,1235,7,365,-23,1234,-81,69,2,21]\n",
    "max_ = lst[0]\n",
    "for i in range(len(lst)):\n",
    "    if lst[i]> max_ :\n",
    "        max_ = lst[i]\n",
    "lst.remove(max_)\n",
    "max2 = lst[0]\n",
    "for i in range(len(lst)):\n",
    "    if lst[i]> max2 :\n",
    "        max2 = lst[i]\n",
    "print(max2,\" is 2nd largest number in list\")"
   ]
  },
  {
   "cell_type": "code",
   "execution_count": 41,
   "metadata": {},
   "outputs": [
    {
     "data": {
      "text/plain": [
       "1234"
      ]
     },
     "execution_count": 41,
     "metadata": {},
     "output_type": "execute_result"
    }
   ],
   "source": [
    "lst = [1233,1235,7,365,-23,1234,-81,69,2,21]\n",
    "lst.sort()\n",
    "lst[-2]"
   ]
  },
  {
   "cell_type": "code",
   "execution_count": 43,
   "metadata": {},
   "outputs": [
    {
     "data": {
      "text/plain": [
       "1234"
      ]
     },
     "execution_count": 43,
     "metadata": {},
     "output_type": "execute_result"
    }
   ],
   "source": [
    "lst = [1233,1235,7,365,-23,1234,-81,69,2,21]\n",
    "lst.remove(max(lst))\n",
    "max(lst)"
   ]
  },
  {
   "cell_type": "markdown",
   "metadata": {},
   "source": [
    "6 . Write a Python program to find N largest elements from a list?"
   ]
  },
  {
   "cell_type": "code",
   "execution_count": 62,
   "metadata": {},
   "outputs": [
    {
     "name": "stdout",
     "output_type": "stream",
     "text": [
      "enter to find the nth largest elements from a list: 4\n"
     ]
    },
    {
     "data": {
      "text/plain": [
       "[365, 1233, 1234, 1235]"
      ]
     },
     "execution_count": 62,
     "metadata": {},
     "output_type": "execute_result"
    }
   ],
   "source": [
    "lst = [1233,1235,7,365,-23,1234,-81,69,2,21]\n",
    "n = int(input(\"enter to find the nth largest elements from a list: \"))\n",
    "lst.sort()\n",
    "lst[-n:]"
   ]
  },
  {
   "cell_type": "code",
   "execution_count": 76,
   "metadata": {},
   "outputs": [
    {
     "name": "stdout",
     "output_type": "stream",
     "text": [
      "enter to find the nth largest elements from a list: 3\n",
      "[1235, 1234, 1233]\n"
     ]
    }
   ],
   "source": [
    "lst = [1233,1235,7,365,-23,1234,-81,69,2,21]\n",
    "n = int(input(\"enter to find the nth largest elements from a list: \"))\n",
    "lst1 = []\n",
    "for i in range(0,n):\n",
    "    max_ = 0\n",
    "    for j in range(len(lst)):\n",
    "        if lst[j]> max_ :\n",
    "            max_ = lst[j]\n",
    "    lst.remove(max_)\n",
    "    lst1.append(max_)\n",
    "print(lst1)  "
   ]
  },
  {
   "cell_type": "markdown",
   "metadata": {},
   "source": [
    "7 . Write a Python program to print even numbers in a list?"
   ]
  },
  {
   "cell_type": "code",
   "execution_count": 80,
   "metadata": {},
   "outputs": [
    {
     "data": {
      "text/plain": [
       "[1234, 2, -34, 6]"
      ]
     },
     "execution_count": 80,
     "metadata": {},
     "output_type": "execute_result"
    }
   ],
   "source": [
    "lst = [1233,1235,7,365,-23,1234,-81,69,2,21,-34,6]\n",
    "lst1 = []\n",
    "for i in lst:\n",
    "    if i%2==0:\n",
    "        lst1.append(i)\n",
    "lst1"
   ]
  },
  {
   "cell_type": "markdown",
   "metadata": {},
   "source": [
    "8 . Write a Python program to print odd numbers in a List?"
   ]
  },
  {
   "cell_type": "code",
   "execution_count": 81,
   "metadata": {},
   "outputs": [
    {
     "data": {
      "text/plain": [
       "[1233, 1235, 7, 365, -23, -81, 69, 21]"
      ]
     },
     "execution_count": 81,
     "metadata": {},
     "output_type": "execute_result"
    }
   ],
   "source": [
    "lst = [1233,1235,7,365,-23,1234,-81,69,2,21,-34,6]\n",
    "lst1 = []\n",
    "for i in lst:\n",
    "    if i%2 != 0:\n",
    "        lst1.append(i)\n",
    "lst1"
   ]
  },
  {
   "cell_type": "markdown",
   "metadata": {},
   "source": [
    "9 . Write a Python program to Remove empty List from List?"
   ]
  },
  {
   "cell_type": "code",
   "execution_count": 2,
   "metadata": {},
   "outputs": [
    {
     "data": {
      "text/plain": [
       "[1, 2, [1, 2, 3]]"
      ]
     },
     "execution_count": 2,
     "metadata": {},
     "output_type": "execute_result"
    }
   ],
   "source": [
    "lst = [[],1,2,[1,2,3],[]]\n",
    "lst1 = []\n",
    "for i in range(len(lst)):\n",
    "    if lst[i] != []:\n",
    "        lst1.append(lst[i])\n",
    "lst1    "
   ]
  },
  {
   "cell_type": "markdown",
   "metadata": {},
   "source": [
    "10 . Write a Python program to Cloning or Copying a list?"
   ]
  },
  {
   "cell_type": "code",
   "execution_count": 7,
   "metadata": {},
   "outputs": [
    {
     "data": {
      "text/plain": [
       "[1233, 1235, 7, 365, -23, 1234, -81, 69, 2, 21, -34, 6]"
      ]
     },
     "execution_count": 7,
     "metadata": {},
     "output_type": "execute_result"
    }
   ],
   "source": [
    "lst = [1233,1235,7,365,-23,1234,-81,69,2,21,-34,6]\n",
    "lst1 = lst.copy()\n",
    "lst1"
   ]
  },
  {
   "cell_type": "markdown",
   "metadata": {},
   "source": [
    "11 . Write a Python program to Count occurrences of an element in a list?"
   ]
  },
  {
   "cell_type": "code",
   "execution_count": 8,
   "metadata": {},
   "outputs": [
    {
     "data": {
      "text/plain": [
       "4"
      ]
     },
     "execution_count": 8,
     "metadata": {},
     "output_type": "execute_result"
    }
   ],
   "source": [
    "lst = [1,2,3,4,3,2,2,2,1,1,2,4,5,3,4,5,1]\n",
    "lst.count(1)"
   ]
  },
  {
   "cell_type": "code",
   "execution_count": 9,
   "metadata": {},
   "outputs": [],
   "source": [
    "def count(lst,x):\n",
    "    count = 0\n",
    "    for i in lst:\n",
    "        if i == x:\n",
    "            count += 1\n",
    "    return count"
   ]
  },
  {
   "cell_type": "code",
   "execution_count": 10,
   "metadata": {},
   "outputs": [
    {
     "data": {
      "text/plain": [
       "5"
      ]
     },
     "execution_count": 10,
     "metadata": {},
     "output_type": "execute_result"
    }
   ],
   "source": [
    "count(lst,2)"
   ]
  }
 ],
 "metadata": {
  "kernelspec": {
   "display_name": "Python 3",
   "language": "python",
   "name": "python3"
  },
  "language_info": {
   "codemirror_mode": {
    "name": "ipython",
    "version": 3
   },
   "file_extension": ".py",
   "mimetype": "text/x-python",
   "name": "python",
   "nbconvert_exporter": "python",
   "pygments_lexer": "ipython3",
   "version": "3.8.5"
  }
 },
 "nbformat": 4,
 "nbformat_minor": 4
}
